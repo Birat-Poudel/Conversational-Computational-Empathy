{
  "nbformat": 4,
  "nbformat_minor": 0,
  "metadata": {
    "colab": {
      "provenance": []
    },
    "kernelspec": {
      "name": "python3",
      "display_name": "Python 3"
    },
    "language_info": {
      "name": "python"
    }
  },
  "cells": [
    {
      "cell_type": "code",
      "execution_count": 153,
      "metadata": {
        "id": "fWwU1KGbJgNo"
      },
      "outputs": [],
      "source": [
        "import numpy as np\n",
        "import pandas as pd\n",
        "import tensorflow as tf\n",
        "from tensorflow import keras\n",
        "from keras import layers\n",
        "from keras.preprocessing.text import Tokenizer\n",
        "from tensorflow.keras.preprocessing.sequence import pad_sequences\n",
        "from sklearn.model_selection import train_test_split\n",
        "from sklearn.utils import resample\n",
        "from sklearn.utils import shuffle\n",
        "import re"
      ]
    },
    {
      "cell_type": "code",
      "source": [
        "data = pd.read_csv('/content/drive/MyDrive/Sentiment.csv')\n",
        "data = data[['text','sentiment']]\n",
        "\n",
        "data['text'] = data['text'].apply(lambda x: x.lower())\n",
        "data['text'] = data['text'].apply((lambda x: re.sub('[^a-zA-z0-9\\s]','',x)))\n",
        "data['text'] = data['text'].str.replace('rt','')"
      ],
      "metadata": {
        "id": "eI3A6wG6JnaD"
      },
      "execution_count": 154,
      "outputs": []
    },
    {
      "cell_type": "code",
      "source": [
        "print(data[['text','sentiment']])"
      ],
      "metadata": {
        "colab": {
          "base_uri": "https://localhost:8080/"
        },
        "id": "ZBGiDB33RvJr",
        "outputId": "2ec7fef1-6f8d-4a3e-de1d-a2ccf783a2ce"
      },
      "execution_count": 155,
      "outputs": [
        {
          "output_type": "stream",
          "name": "stdout",
          "text": [
            "                                                    text sentiment\n",
            "0       nancyleegrahn how did everyone feel about the...   Neutral\n",
            "1       scottwalker didnt catch the full gopdebate la...  Positive\n",
            "2       tjmshow no mention of tamir rice and the gopd...   Neutral\n",
            "3       robgeorge that carly fiorina is trending  hou...  Positive\n",
            "4       danscavino gopdebate w realdonaldtrump delive...  Positive\n",
            "...                                                  ...       ...\n",
            "13866   cappy_yarbrough love to see men who will neve...  Negative\n",
            "13867   georgehenryw who thought huckabee exceeded th...  Positive\n",
            "13868   lrihendry tedcruz as president i will always ...  Positive\n",
            "13869   jrehling gopdebate donald trump says that he ...  Negative\n",
            "13870   lrihendry tedcruz headed into the presidentia...  Positive\n",
            "\n",
            "[13871 rows x 2 columns]\n"
          ]
        }
      ]
    },
    {
      "cell_type": "code",
      "source": [
        "data_majority = data[data['sentiment'] == 'Negative']\n",
        "data_minority = data[data['sentiment'] == 'Positive']\n",
        "data_neutral = data[data['sentiment'] == 'Neutral' ]\n",
        "\n",
        "bias = data_minority.shape[0]/data_majority.shape[0]\n",
        "\n",
        "train = pd.concat([\n",
        "         data_majority.sample(frac=0.8,random_state=200),\n",
        "         data_minority.sample(frac=0.8,random_state=200),\n",
        "         data_neutral.sample(frac=0.8, random_state=200)\n",
        "         ])\n",
        "\n",
        "test = pd.concat([\n",
        "         data_majority.drop(data_majority.sample(frac=0.8,random_state=200).index),\n",
        "         data_minority.drop(data_minority.sample(frac=0.8,random_state=200).index),\n",
        "         data_neutral.drop(data_neutral.sample(frac=0.8, random_state=200).index)\n",
        "         ])\n",
        "\n",
        "train = shuffle(train)\n",
        "test = shuffle(test)"
      ],
      "metadata": {
        "id": "CZfdrrKQJ2mF"
      },
      "execution_count": 156,
      "outputs": []
    },
    {
      "cell_type": "code",
      "source": [
        "print('positive data in training:',(train.sentiment == 'Positive').sum())\n",
        "print('negative data in training:',(train.sentiment == 'Negative').sum())\n",
        "print('neutral data in training:',(train.sentiment == 'Neutral').sum())\n",
        "\n",
        "print('positive data in test:',(test.sentiment == 'Positive').sum())\n",
        "print('negative data in test:',(test.sentiment == 'Negative').sum())\n",
        "print('neutral data in test:',(test.sentiment == 'Neutral').sum())"
      ],
      "metadata": {
        "colab": {
          "base_uri": "https://localhost:8080/"
        },
        "id": "Lqv1IKIaKCVP",
        "outputId": "52266874-cb0c-4199-ceb3-69b40f01fe7b"
      },
      "execution_count": 157,
      "outputs": [
        {
          "output_type": "stream",
          "name": "stdout",
          "text": [
            "positive data in training: 1789\n",
            "negative data in training: 6794\n",
            "neutral data in training: 2514\n",
            "positive data in test: 447\n",
            "negative data in test: 1699\n",
            "neutral data in test: 628\n"
          ]
        }
      ]
    },
    {
      "cell_type": "code",
      "source": [
        "data_majority = train[train['sentiment'] == 'Negative']\n",
        "data_minority = train[train['sentiment'] == 'Positive']\n",
        "data_neutral = train[train['sentiment'] == 'Neutral']\n",
        "\n",
        "\n",
        "print(\"majority class before upsample:\",data_majority.shape)\n",
        "print(\"minority class before upsample:\",data_minority.shape)\n",
        "print(\"neutral class before upsample:\",data_neutral.shape)\n",
        "\n",
        "\n",
        "data_minority_upsampled = resample(data_minority,\n",
        "                                 replace=True,\n",
        "                                 n_samples= data_majority.shape[0],\n",
        "                                 random_state=123)\n",
        "\n",
        "data_neutral_upsampled = resample(data_neutral,\n",
        "                                 replace=True,\n",
        "                                 n_samples= data_majority.shape[0],\n",
        "                                 random_state=123)\n",
        "\n",
        "\n",
        "data_upsampled = pd.concat([data_majority, data_minority_upsampled, data_neutral_upsampled])\n",
        "\n",
        "print(\"After upsampling\\n\",data_upsampled.sentiment.value_counts(),sep = \"\")"
      ],
      "metadata": {
        "colab": {
          "base_uri": "https://localhost:8080/"
        },
        "id": "UfNJXnI9KGUr",
        "outputId": "d30e3976-ed6e-4824-b96b-a6c5b49718d7"
      },
      "execution_count": 158,
      "outputs": [
        {
          "output_type": "stream",
          "name": "stdout",
          "text": [
            "majority class before upsample: (6794, 2)\n",
            "minority class before upsample: (1789, 2)\n",
            "neutral class before upsample: (2514, 2)\n",
            "After upsampling\n",
            "Negative    6794\n",
            "Positive    6794\n",
            "Neutral     6794\n",
            "Name: sentiment, dtype: int64\n"
          ]
        }
      ]
    },
    {
      "cell_type": "code",
      "source": [
        "data_upsampled.head()"
      ],
      "metadata": {
        "colab": {
          "base_uri": "https://localhost:8080/",
          "height": 206
        },
        "id": "bSOP-3TgYXxq",
        "outputId": "ccf5764a-c44b-4275-915c-590b285ad3ff"
      },
      "execution_count": 159,
      "outputs": [
        {
          "output_type": "execute_result",
          "data": {
            "text/plain": [
              "                                                    text sentiment\n",
              "11718   mhvadney kasichs answer on gay marriage was r...  Negative\n",
              "13839   swincash so gopdebates got folks like thishmm...  Negative\n",
              "635     whoisbenchang the gopdebate as theater madefo...  Negative\n",
              "9278    supermanhotmale i lived here in florida for 8...  Negative\n",
              "3136   realdonaldtrump did you realize that even foxn...  Negative"
            ],
            "text/html": [
              "\n",
              "\n",
              "  <div id=\"df-4a2485b6-866f-4088-b8d5-149ae32f4c71\">\n",
              "    <div class=\"colab-df-container\">\n",
              "      <div>\n",
              "<style scoped>\n",
              "    .dataframe tbody tr th:only-of-type {\n",
              "        vertical-align: middle;\n",
              "    }\n",
              "\n",
              "    .dataframe tbody tr th {\n",
              "        vertical-align: top;\n",
              "    }\n",
              "\n",
              "    .dataframe thead th {\n",
              "        text-align: right;\n",
              "    }\n",
              "</style>\n",
              "<table border=\"1\" class=\"dataframe\">\n",
              "  <thead>\n",
              "    <tr style=\"text-align: right;\">\n",
              "      <th></th>\n",
              "      <th>text</th>\n",
              "      <th>sentiment</th>\n",
              "    </tr>\n",
              "  </thead>\n",
              "  <tbody>\n",
              "    <tr>\n",
              "      <th>11718</th>\n",
              "      <td>mhvadney kasichs answer on gay marriage was r...</td>\n",
              "      <td>Negative</td>\n",
              "    </tr>\n",
              "    <tr>\n",
              "      <th>13839</th>\n",
              "      <td>swincash so gopdebates got folks like thishmm...</td>\n",
              "      <td>Negative</td>\n",
              "    </tr>\n",
              "    <tr>\n",
              "      <th>635</th>\n",
              "      <td>whoisbenchang the gopdebate as theater madefo...</td>\n",
              "      <td>Negative</td>\n",
              "    </tr>\n",
              "    <tr>\n",
              "      <th>9278</th>\n",
              "      <td>supermanhotmale i lived here in florida for 8...</td>\n",
              "      <td>Negative</td>\n",
              "    </tr>\n",
              "    <tr>\n",
              "      <th>3136</th>\n",
              "      <td>realdonaldtrump did you realize that even foxn...</td>\n",
              "      <td>Negative</td>\n",
              "    </tr>\n",
              "  </tbody>\n",
              "</table>\n",
              "</div>\n",
              "      <button class=\"colab-df-convert\" onclick=\"convertToInteractive('df-4a2485b6-866f-4088-b8d5-149ae32f4c71')\"\n",
              "              title=\"Convert this dataframe to an interactive table.\"\n",
              "              style=\"display:none;\">\n",
              "\n",
              "  <svg xmlns=\"http://www.w3.org/2000/svg\" height=\"24px\"viewBox=\"0 0 24 24\"\n",
              "       width=\"24px\">\n",
              "    <path d=\"M0 0h24v24H0V0z\" fill=\"none\"/>\n",
              "    <path d=\"M18.56 5.44l.94 2.06.94-2.06 2.06-.94-2.06-.94-.94-2.06-.94 2.06-2.06.94zm-11 1L8.5 8.5l.94-2.06 2.06-.94-2.06-.94L8.5 2.5l-.94 2.06-2.06.94zm10 10l.94 2.06.94-2.06 2.06-.94-2.06-.94-.94-2.06-.94 2.06-2.06.94z\"/><path d=\"M17.41 7.96l-1.37-1.37c-.4-.4-.92-.59-1.43-.59-.52 0-1.04.2-1.43.59L10.3 9.45l-7.72 7.72c-.78.78-.78 2.05 0 2.83L4 21.41c.39.39.9.59 1.41.59.51 0 1.02-.2 1.41-.59l7.78-7.78 2.81-2.81c.8-.78.8-2.07 0-2.86zM5.41 20L4 18.59l7.72-7.72 1.47 1.35L5.41 20z\"/>\n",
              "  </svg>\n",
              "      </button>\n",
              "\n",
              "\n",
              "\n",
              "    <div id=\"df-50a85eac-55de-4b1f-bca5-5ddd0fc1018c\">\n",
              "      <button class=\"colab-df-quickchart\" onclick=\"quickchart('df-50a85eac-55de-4b1f-bca5-5ddd0fc1018c')\"\n",
              "              title=\"Suggest charts.\"\n",
              "              style=\"display:none;\">\n",
              "\n",
              "<svg xmlns=\"http://www.w3.org/2000/svg\" height=\"24px\"viewBox=\"0 0 24 24\"\n",
              "     width=\"24px\">\n",
              "    <g>\n",
              "        <path d=\"M19 3H5c-1.1 0-2 .9-2 2v14c0 1.1.9 2 2 2h14c1.1 0 2-.9 2-2V5c0-1.1-.9-2-2-2zM9 17H7v-7h2v7zm4 0h-2V7h2v10zm4 0h-2v-4h2v4z\"/>\n",
              "    </g>\n",
              "</svg>\n",
              "      </button>\n",
              "    </div>\n",
              "\n",
              "<style>\n",
              "  .colab-df-quickchart {\n",
              "    background-color: #E8F0FE;\n",
              "    border: none;\n",
              "    border-radius: 50%;\n",
              "    cursor: pointer;\n",
              "    display: none;\n",
              "    fill: #1967D2;\n",
              "    height: 32px;\n",
              "    padding: 0 0 0 0;\n",
              "    width: 32px;\n",
              "  }\n",
              "\n",
              "  .colab-df-quickchart:hover {\n",
              "    background-color: #E2EBFA;\n",
              "    box-shadow: 0px 1px 2px rgba(60, 64, 67, 0.3), 0px 1px 3px 1px rgba(60, 64, 67, 0.15);\n",
              "    fill: #174EA6;\n",
              "  }\n",
              "\n",
              "  [theme=dark] .colab-df-quickchart {\n",
              "    background-color: #3B4455;\n",
              "    fill: #D2E3FC;\n",
              "  }\n",
              "\n",
              "  [theme=dark] .colab-df-quickchart:hover {\n",
              "    background-color: #434B5C;\n",
              "    box-shadow: 0px 1px 3px 1px rgba(0, 0, 0, 0.15);\n",
              "    filter: drop-shadow(0px 1px 2px rgba(0, 0, 0, 0.3));\n",
              "    fill: #FFFFFF;\n",
              "  }\n",
              "</style>\n",
              "\n",
              "    <script>\n",
              "      async function quickchart(key) {\n",
              "        const containerElement = document.querySelector('#' + key);\n",
              "        const charts = await google.colab.kernel.invokeFunction(\n",
              "            'suggestCharts', [key], {});\n",
              "      }\n",
              "    </script>\n",
              "\n",
              "      <script>\n",
              "\n",
              "function displayQuickchartButton(domScope) {\n",
              "  let quickchartButtonEl =\n",
              "    domScope.querySelector('#df-50a85eac-55de-4b1f-bca5-5ddd0fc1018c button.colab-df-quickchart');\n",
              "  quickchartButtonEl.style.display =\n",
              "    google.colab.kernel.accessAllowed ? 'block' : 'none';\n",
              "}\n",
              "\n",
              "        displayQuickchartButton(document);\n",
              "      </script>\n",
              "      <style>\n",
              "    .colab-df-container {\n",
              "      display:flex;\n",
              "      flex-wrap:wrap;\n",
              "      gap: 12px;\n",
              "    }\n",
              "\n",
              "    .colab-df-convert {\n",
              "      background-color: #E8F0FE;\n",
              "      border: none;\n",
              "      border-radius: 50%;\n",
              "      cursor: pointer;\n",
              "      display: none;\n",
              "      fill: #1967D2;\n",
              "      height: 32px;\n",
              "      padding: 0 0 0 0;\n",
              "      width: 32px;\n",
              "    }\n",
              "\n",
              "    .colab-df-convert:hover {\n",
              "      background-color: #E2EBFA;\n",
              "      box-shadow: 0px 1px 2px rgba(60, 64, 67, 0.3), 0px 1px 3px 1px rgba(60, 64, 67, 0.15);\n",
              "      fill: #174EA6;\n",
              "    }\n",
              "\n",
              "    [theme=dark] .colab-df-convert {\n",
              "      background-color: #3B4455;\n",
              "      fill: #D2E3FC;\n",
              "    }\n",
              "\n",
              "    [theme=dark] .colab-df-convert:hover {\n",
              "      background-color: #434B5C;\n",
              "      box-shadow: 0px 1px 3px 1px rgba(0, 0, 0, 0.15);\n",
              "      filter: drop-shadow(0px 1px 2px rgba(0, 0, 0, 0.3));\n",
              "      fill: #FFFFFF;\n",
              "    }\n",
              "  </style>\n",
              "\n",
              "      <script>\n",
              "        const buttonEl =\n",
              "          document.querySelector('#df-4a2485b6-866f-4088-b8d5-149ae32f4c71 button.colab-df-convert');\n",
              "        buttonEl.style.display =\n",
              "          google.colab.kernel.accessAllowed ? 'block' : 'none';\n",
              "\n",
              "        async function convertToInteractive(key) {\n",
              "          const element = document.querySelector('#df-4a2485b6-866f-4088-b8d5-149ae32f4c71');\n",
              "          const dataTable =\n",
              "            await google.colab.kernel.invokeFunction('convertToInteractive',\n",
              "                                                     [key], {});\n",
              "          if (!dataTable) return;\n",
              "\n",
              "          const docLinkHtml = 'Like what you see? Visit the ' +\n",
              "            '<a target=\"_blank\" href=https://colab.research.google.com/notebooks/data_table.ipynb>data table notebook</a>'\n",
              "            + ' to learn more about interactive tables.';\n",
              "          element.innerHTML = '';\n",
              "          dataTable['output_type'] = 'display_data';\n",
              "          await google.colab.output.renderOutput(dataTable, element);\n",
              "          const docLink = document.createElement('div');\n",
              "          docLink.innerHTML = docLinkHtml;\n",
              "          element.appendChild(docLink);\n",
              "        }\n",
              "      </script>\n",
              "    </div>\n",
              "  </div>\n"
            ]
          },
          "metadata": {},
          "execution_count": 159
        }
      ]
    },
    {
      "cell_type": "code",
      "source": [
        "one_hot = pd.get_dummies(data_upsampled['sentiment'])\n",
        "data_upsampled.drop([\"sentiment\"], axis=1, inplace=True)\n",
        "data_upsampled = pd.concat([data_upsampled, one_hot], axis=1)"
      ],
      "metadata": {
        "id": "auOQxRXjYQAs"
      },
      "execution_count": 160,
      "outputs": []
    },
    {
      "cell_type": "code",
      "source": [
        "X = data_upsampled[\"text\"].values\n",
        "y = data_upsampled.drop(\"text\", axis=1).values"
      ],
      "metadata": {
        "id": "54qyJ0_7ZNTn"
      },
      "execution_count": 161,
      "outputs": []
    },
    {
      "cell_type": "code",
      "source": [
        "max_features = 20000\n",
        "tokenizer = Tokenizer(num_words=max_features, split=' ')\n",
        "tokenizer.fit_on_texts(X)\n",
        "\n",
        "X = tokenizer.texts_to_sequences(X)\n",
        "X = pad_sequences(X, maxlen=63)\n",
        "\n",
        "X_train, X_test, y_train, y_test = train_test_split(\n",
        "    X, y, test_size=0.30, random_state=42\n",
        ")"
      ],
      "metadata": {
        "id": "VG6vSFuWZVx2"
      },
      "execution_count": 162,
      "outputs": []
    },
    {
      "cell_type": "code",
      "source": [
        "print(y_train.shape)"
      ],
      "metadata": {
        "colab": {
          "base_uri": "https://localhost:8080/"
        },
        "id": "udjHqS8oQuPf",
        "outputId": "be9cccf0-6973-4e34-9ba3-e52801bcf88b"
      },
      "execution_count": 163,
      "outputs": [
        {
          "output_type": "stream",
          "name": "stdout",
          "text": [
            "(14267, 3)\n"
          ]
        }
      ]
    },
    {
      "cell_type": "code",
      "source": [
        "from keras import layers\n",
        "\n",
        "class TokenAndPositionEmbedding(layers.Layer):\n",
        "    def __init__(self, maxlen, vocab_size, embed_dim):\n",
        "        super().__init__()\n",
        "        self.token_emb = layers.Embedding(input_dim=vocab_size, output_dim=embed_dim)\n",
        "        self.pos_emb = layers.Embedding(input_dim=maxlen, output_dim=embed_dim)\n",
        "\n",
        "    def call(self, x):\n",
        "        maxlen = tf.shape(x)[-1]\n",
        "        positions = tf.range(start=0, limit=maxlen, delta=1)\n",
        "        positions = self.pos_emb(positions)\n",
        "        x = self.token_emb(x)\n",
        "        return x + positions"
      ],
      "metadata": {
        "id": "oxOAxtq1M2q3"
      },
      "execution_count": 164,
      "outputs": []
    },
    {
      "cell_type": "code",
      "source": [
        "class TransformerBlock(layers.Layer):\n",
        "    def __init__(self, embed_dim, num_heads, ff_dim, rate=0.1):\n",
        "        super().__init__()\n",
        "        self.att = layers.MultiHeadAttention(num_heads=num_heads, key_dim=embed_dim)\n",
        "        self.ffn = keras.Sequential(\n",
        "            [\n",
        "                layers.Dense(ff_dim, activation=\"relu\"),\n",
        "                layers.Dense(embed_dim),\n",
        "            ]\n",
        "        )\n",
        "        self.layernorm1 = layers.LayerNormalization(epsilon=1e-6)\n",
        "        self.layernorm2 = layers.LayerNormalization(epsilon=1e-6)\n",
        "        self.dropout1 = layers.Dropout(rate)\n",
        "        self.dropout2 = layers.Dropout(rate)\n",
        "\n",
        "    def call(self, inputs, training):\n",
        "        attn_output = self.att(inputs, inputs)\n",
        "        attn_output = self.dropout1(attn_output, training=training)\n",
        "        out1 = self.layernorm1(inputs + attn_output)\n",
        "        ffn_output = self.ffn(out1)\n",
        "        ffn_output = self.dropout2(ffn_output, training=training)\n",
        "        return self.layernorm2(out1 + ffn_output)"
      ],
      "metadata": {
        "id": "x8mWPMRZNcqf"
      },
      "execution_count": null,
      "outputs": []
    },
    {
      "cell_type": "code",
      "source": [
        "model_path = '/content/drive/MyDrive/sentu2.h5'\n",
        "\n",
        "with tf.keras.utils.custom_object_scope({'TokenAndPositionEmbedding': TokenAndPositionEmbedding, 'TransformerBlock': TransformerBlock}):\n",
        "    model = tf.keras.models.load_model(model_path)"
      ],
      "metadata": {
        "id": "2rxNfYHyKOIe"
      },
      "execution_count": null,
      "outputs": []
    },
    {
      "cell_type": "code",
      "source": [
        "inputs = model.input\n",
        "outputs = model.output\n",
        "\n",
        "num_classes = 3\n",
        "\n",
        "outputs = tf.keras.layers.Dense(num_classes, activation='softmax')(outputs)\n",
        "model = tf.keras.Model(inputs=inputs, outputs=outputs)"
      ],
      "metadata": {
        "id": "dg9PKXK_KYyj"
      },
      "execution_count": null,
      "outputs": []
    },
    {
      "cell_type": "code",
      "source": [
        "model.compile(loss='categorical_crossentropy', optimizer='adam', metrics=['accuracy'])"
      ],
      "metadata": {
        "id": "vS9TN-G8KoFA"
      },
      "execution_count": null,
      "outputs": []
    },
    {
      "cell_type": "code",
      "source": [
        "print(X_train.shape)\n",
        "print(y_train.shape)"
      ],
      "metadata": {
        "colab": {
          "base_uri": "https://localhost:8080/"
        },
        "id": "zk_h8PxSbs0Z",
        "outputId": "f07a58c4-6adc-4eb1-c141-7646226c450f"
      },
      "execution_count": null,
      "outputs": [
        {
          "output_type": "stream",
          "name": "stdout",
          "text": [
            "(14267, 63)\n",
            "(14267, 3)\n"
          ]
        }
      ]
    },
    {
      "cell_type": "code",
      "source": [
        "train_dataset = tf.data.Dataset.from_tensor_slices((X_train, y_train))\n",
        "train_dataset = train_dataset.batch(128)\n",
        "\n",
        "print(train_dataset)"
      ],
      "metadata": {
        "colab": {
          "base_uri": "https://localhost:8080/"
        },
        "id": "t4T-_J1BKrwP",
        "outputId": "ce055c64-3360-4da6-901a-d17f5d96b023"
      },
      "execution_count": null,
      "outputs": [
        {
          "output_type": "stream",
          "name": "stdout",
          "text": [
            "<_BatchDataset element_spec=(TensorSpec(shape=(None, 63), dtype=tf.int32, name=None), TensorSpec(shape=(None, 3), dtype=tf.uint8, name=None))>\n"
          ]
        }
      ]
    },
    {
      "cell_type": "code",
      "source": [
        "num_epochs = 15\n",
        "\n",
        "for epoch in range(num_epochs):\n",
        "    total_loss = 0\n",
        "    total_samples = 0\n",
        "\n",
        "    for batch, (input_batch, label_batch) in enumerate(train_dataset):\n",
        "        loss, accuracy = model.train_on_batch(input_batch, label_batch)\n",
        "\n",
        "        total_loss += loss * input_batch.shape[0]\n",
        "        total_samples += input_batch.shape[0]\n",
        "\n",
        "    epoch_loss = total_loss / total_samples\n",
        "    print(f'Epoch {epoch+1}/{num_epochs}, Loss: {epoch_loss:.4f}, Accuracy: {accuracy:.4f}')"
      ],
      "metadata": {
        "colab": {
          "base_uri": "https://localhost:8080/"
        },
        "id": "uGd34iKeKwL6",
        "outputId": "88d78599-08b6-4c51-a71a-59d3fe8cd214"
      },
      "execution_count": null,
      "outputs": [
        {
          "output_type": "stream",
          "name": "stdout",
          "text": [
            "Epoch 1/15, Loss: 0.6671, Accuracy: 0.6441\n",
            "Epoch 2/15, Loss: 0.6581, Accuracy: 0.6780\n",
            "Epoch 3/15, Loss: 0.6449, Accuracy: 0.6780\n",
            "Epoch 4/15, Loss: 0.6367, Accuracy: 0.6949\n",
            "Epoch 5/15, Loss: 0.6354, Accuracy: 0.6780\n",
            "Epoch 6/15, Loss: 0.6365, Accuracy: 0.6949\n",
            "Epoch 7/15, Loss: 0.6361, Accuracy: 0.6441\n",
            "Epoch 8/15, Loss: 0.6412, Accuracy: 0.7119\n",
            "Epoch 9/15, Loss: 0.6191, Accuracy: 0.7966\n",
            "Epoch 10/15, Loss: 0.5521, Accuracy: 0.8305\n",
            "Epoch 11/15, Loss: 0.4742, Accuracy: 0.8644\n",
            "Epoch 12/15, Loss: 0.4298, Accuracy: 0.8814\n",
            "Epoch 13/15, Loss: 0.3887, Accuracy: 0.8983\n",
            "Epoch 14/15, Loss: 0.3629, Accuracy: 0.8983\n",
            "Epoch 15/15, Loss: 0.3415, Accuracy: 0.8983\n"
          ]
        }
      ]
    },
    {
      "cell_type": "code",
      "source": [
        "model.save(\"/content/drive/MyDrive/sentfinal.h5\")"
      ],
      "metadata": {
        "id": "SfCUaJ-Yrm91"
      },
      "execution_count": null,
      "outputs": []
    },
    {
      "cell_type": "code",
      "source": [
        "text = [\"The quality is bad. I hate the product\"]\n",
        "text = tokenizer.texts_to_sequences(text)\n",
        "text = pad_sequences(text, maxlen=63, dtype='int32', value=0)\n",
        "sentiment = model.predict(text,batch_size=1,verbose = 2)[0]\n",
        "\n",
        "print(sentiment)\n",
        "\n",
        "if (np.argmax(sentiment) == 0):\n",
        "  print(\"negative\")\n",
        "elif (np.argmax(sentiment) == 1):\n",
        "  print(\"neutral\")\n",
        "else:\n",
        "  print(\"positive\")"
      ],
      "metadata": {
        "colab": {
          "base_uri": "https://localhost:8080/"
        },
        "id": "vuv3iyFxK6l6",
        "outputId": "fdfb50c4-2016-4e57-cc8c-eb06785e9e2e"
      },
      "execution_count": 169,
      "outputs": [
        {
          "output_type": "stream",
          "name": "stdout",
          "text": [
            "1/1 - 0s - 18ms/epoch - 18ms/step\n",
            "[0.8251656  0.16309305 0.01174132]\n",
            "negative\n"
          ]
        }
      ]
    }
  ]
}